{
  "nbformat": 4,
  "nbformat_minor": 0,
  "metadata": {
    "colab": {
      "provenance": []
    },
    "kernelspec": {
      "name": "python3",
      "display_name": "Python 3"
    },
    "language_info": {
      "name": "python"
    }
  },
  "cells": [
    {
      "cell_type": "markdown",
      "source": [
        "**QUESTION-1** How to Creating a 3x3 Identity Matrix with Float Data Type?"
      ],
      "metadata": {
        "id": "rCz6cExdHbQ2"
      }
    },
    {
      "cell_type": "code",
      "execution_count": null,
      "metadata": {
        "id": "_YQF4dt_mCPw"
      },
      "outputs": [],
      "source": [
        "import numpy as np"
      ]
    },
    {
      "cell_type": "code",
      "source": [
        "arr = np.identity(3, dtype=float)\n",
        "arr"
      ],
      "metadata": {
        "colab": {
          "base_uri": "https://localhost:8080/"
        },
        "id": "zwvIJOC7mSe_",
        "outputId": "3a116cd7-5c58-4677-e22b-c0c139eeefbb"
      },
      "execution_count": null,
      "outputs": [
        {
          "output_type": "execute_result",
          "data": {
            "text/plain": [
              "array([[1., 0., 0.],\n",
              "       [0., 1., 0.],\n",
              "       [0., 0., 1.]])"
            ]
          },
          "metadata": {},
          "execution_count": 4
        }
      ]
    },
    {
      "cell_type": "code",
      "source": [
        "arr.dtype"
      ],
      "metadata": {
        "colab": {
          "base_uri": "https://localhost:8080/"
        },
        "id": "MsESDUhRtddm",
        "outputId": "66356037-0644-4ad7-fec8-c15e6df518e8"
      },
      "execution_count": null,
      "outputs": [
        {
          "output_type": "execute_result",
          "data": {
            "text/plain": [
              "dtype('float64')"
            ]
          },
          "metadata": {},
          "execution_count": 5
        }
      ]
    },
    {
      "cell_type": "markdown",
      "source": [
        "**QUESTION-2**  Create a 1D Array with Random Values between 0 and 1.\n"
      ],
      "metadata": {
        "id": "Ni0Bq1DxHggl"
      }
    },
    {
      "cell_type": "code",
      "source": [
        "arr1 = np.random.rand(10)\n",
        "arr1"
      ],
      "metadata": {
        "id": "ZLn8tuP4aO9l",
        "colab": {
          "base_uri": "https://localhost:8080/"
        },
        "outputId": "87c503d6-539d-4695-f640-a035a6a3e83a"
      },
      "execution_count": null,
      "outputs": [
        {
          "output_type": "execute_result",
          "data": {
            "text/plain": [
              "array([0.05479062, 0.82608194, 0.45889976, 0.61514657, 0.02153697,\n",
              "       0.80710216, 0.42883769, 0.99514126, 0.43792366, 0.96138769])"
            ]
          },
          "metadata": {},
          "execution_count": 6
        }
      ]
    },
    {
      "cell_type": "markdown",
      "source": [
        "**QUESTION-3**  Create a 2D Array with Random Integer Values."
      ],
      "metadata": {
        "id": "O3HQlr3COvWo"
      }
    },
    {
      "cell_type": "code",
      "source": [
        "arr2 = np.random.randint(10, size=(2,5))\n",
        "arr2\n"
      ],
      "metadata": {
        "id": "_h5PSritaO6s",
        "colab": {
          "base_uri": "https://localhost:8080/"
        },
        "outputId": "6f79077f-46fe-4c58-db2b-f0613e2135e3"
      },
      "execution_count": null,
      "outputs": [
        {
          "output_type": "execute_result",
          "data": {
            "text/plain": [
              "array([[4, 0, 1, 9, 0],\n",
              "       [0, 8, 6, 4, 5]])"
            ]
          },
          "metadata": {},
          "execution_count": 7
        }
      ]
    },
    {
      "cell_type": "markdown",
      "source": [
        "QUESTION-4    Creating an Array Using a Custom Function."
      ],
      "metadata": {
        "id": "Kaz2A5VXP_tR"
      }
    },
    {
      "cell_type": "code",
      "source": [],
      "metadata": {
        "id": "M6zNyLEyQIQr"
      },
      "execution_count": null,
      "outputs": []
    },
    {
      "cell_type": "markdown",
      "source": [
        "**QUESTION-5**  Reshaping a 1D Array into a 2D Array"
      ],
      "metadata": {
        "id": "XTJ1c-EyRzej"
      }
    },
    {
      "cell_type": "code",
      "source": [
        "arr = np.arange(9)\n",
        "print(\"1-D Array\")\n",
        "print(arr)\n",
        "\n",
        "arr1 = arr.reshape(3,3)\n",
        "print(\"\\nReshaping 1-D Array into 2-D Array\")\n",
        "arr1"
      ],
      "metadata": {
        "colab": {
          "base_uri": "https://localhost:8080/"
        },
        "id": "EmQTBTnMR1sl",
        "outputId": "738c48b1-bf98-4257-e170-ead4ed0a51f2"
      },
      "execution_count": null,
      "outputs": [
        {
          "output_type": "stream",
          "name": "stdout",
          "text": [
            "1-D Array\n",
            "[0 1 2 3 4 5 6 7 8]\n",
            "\n",
            "Reshaping 1-D Array into 2-D Array\n"
          ]
        },
        {
          "output_type": "execute_result",
          "data": {
            "text/plain": [
              "array([[0, 1, 2],\n",
              "       [3, 4, 5],\n",
              "       [6, 7, 8]])"
            ]
          },
          "metadata": {},
          "execution_count": 8
        }
      ]
    },
    {
      "cell_type": "markdown",
      "source": [
        "**QUESTION-6** How to Creating a 3x3 Array of Ones?"
      ],
      "metadata": {
        "id": "fzfUKejgRwfe"
      }
    },
    {
      "cell_type": "code",
      "source": [
        "arr = np.ones((3,3), dtype=int)\n",
        "arr"
      ],
      "metadata": {
        "colab": {
          "base_uri": "https://localhost:8080/"
        },
        "id": "ZhRRozHgTtEH",
        "outputId": "9819c14c-6571-4821-b698-7e92c175e98b"
      },
      "execution_count": null,
      "outputs": [
        {
          "output_type": "execute_result",
          "data": {
            "text/plain": [
              "array([[1, 1, 1],\n",
              "       [1, 1, 1],\n",
              "       [1, 1, 1]])"
            ]
          },
          "metadata": {},
          "execution_count": 9
        }
      ]
    },
    {
      "cell_type": "markdown",
      "source": [
        "**QUESTION-7** How to get the common items between two pythons\n",
        "NumPy? Input:\n",
        "a = np. array ([1,2,3,2,3,4,3,4,5,6])\n",
        "b = np. array ([7,2,10,2,7,4,9,4,9,8])\n",
        "Expected Output:\n",
        "array ([2, 4])"
      ],
      "metadata": {
        "id": "tfdKQgzIRjdg"
      }
    },
    {
      "cell_type": "code",
      "source": [
        "a = np.array([1,2,3,2,3,4,3,4,5,6])\n",
        "b = np.array([7,2,10,2,7,4,9,4,9,8])\n",
        "common = np.intersect1d(a,b)\n",
        "print(common)\n"
      ],
      "metadata": {
        "colab": {
          "base_uri": "https://localhost:8080/"
        },
        "id": "B9svBZgnUskk",
        "outputId": "109dbe8c-6d82-404c-f9d6-8b4206af0572"
      },
      "execution_count": null,
      "outputs": [
        {
          "output_type": "stream",
          "name": "stdout",
          "text": [
            "[2 4]\n"
          ]
        }
      ]
    },
    {
      "cell_type": "markdown",
      "source": [
        "QUESTION-8  From array a remove all items present in\n",
        "array b Input:\n",
        "a = np. array ([1,2,3,4,5])\n",
        "b = np. array ([5,6,7,8,9])\n",
        "Expected Output:\n",
        "array ([1,2,3,4]"
      ],
      "metadata": {
        "id": "vwcvrWcPWNR-"
      }
    },
    {
      "cell_type": "code",
      "source": [
        "a = np. array ([1,2,3,4,5])\n",
        "b = np. array ([5,6,7,8,9])\n",
        "c = np.setdiff1d(a,b)\n",
        "print(c)"
      ],
      "metadata": {
        "colab": {
          "base_uri": "https://localhost:8080/"
        },
        "id": "rSeJf5AaWgtr",
        "outputId": "9200b7de-b897-4f78-ad69-fdd922c20b74"
      },
      "execution_count": null,
      "outputs": [
        {
          "output_type": "stream",
          "name": "stdout",
          "text": [
            "[1 2 3 4]\n"
          ]
        }
      ]
    },
    {
      "cell_type": "markdown",
      "source": [
        "QUESTION-9 Limit the number of items printed in python NumPy array a to a maximum of\n",
        "6 elements.\n",
        "a = np. arrange (15)\n",
        "Expected Output:\n",
        "array ([ 0, 1, 2, ..., 12, 13, 14]"
      ],
      "metadata": {
        "id": "0c18eBagX5U8"
      }
    },
    {
      "cell_type": "code",
      "source": [
        "a = np.arange(15)\n",
        "np.set_printoptions(threshold=6)\n",
        "print(a)"
      ],
      "metadata": {
        "colab": {
          "base_uri": "https://localhost:8080/"
        },
        "id": "FnVNfK1VX4Y8",
        "outputId": "6dc38503-743b-47ab-de41-b2b957bd6b9c"
      },
      "execution_count": null,
      "outputs": [
        {
          "output_type": "stream",
          "name": "stdout",
          "text": [
            "[ 0  1  2 ... 12 13 14]\n"
          ]
        }
      ]
    },
    {
      "cell_type": "markdown",
      "source": [
        "**QUESTION-10**  Drop all nan values from a 1D NumPy\n",
        "array Input:\n",
        "np. array ([1,2,3, np.nan,5,6,7, np.nan])\n",
        "Desired Output:\n",
        "array ([ 1., 2., 3., 5., 6., 7.])"
      ],
      "metadata": {
        "id": "ywstWUZgW1LI"
      }
    },
    {
      "cell_type": "code",
      "source": [
        "arr = np.array([1,2,3, np.nan,5,6,7, np.nan])\n",
        "print(arr)\n",
        "\n",
        "arr1 = arr[~np.isnan(arr)]\n",
        "print(arr1)"
      ],
      "metadata": {
        "colab": {
          "base_uri": "https://localhost:8080/"
        },
        "id": "nbXMN1CbXAlD",
        "outputId": "5145582a-b059-4829-be85-261ea83fd430"
      },
      "execution_count": null,
      "outputs": [
        {
          "output_type": "stream",
          "name": "stdout",
          "text": [
            "[ 1.  2.  3. ...  6.  7. nan]\n",
            "[1. 2. 3. 5. 6. 7.]\n"
          ]
        }
      ]
    },
    {
      "cell_type": "markdown",
      "source": [
        "**QUESTION-11**  Create a 1D NumPy array of the first 20 natural numbers and a\n",
        "2D NumPy array of shape (4, 5) with values ranging from 1 to 20."
      ],
      "metadata": {
        "id": "mGfT5ZpRaNUr"
      }
    },
    {
      "cell_type": "code",
      "source": [
        "arr1 = np.arange(20)\n",
        "print(arr1)\n",
        "\n",
        "arr2 = np.arange(1,21).reshape(4,5)\n",
        "print(arr2)"
      ],
      "metadata": {
        "colab": {
          "base_uri": "https://localhost:8080/"
        },
        "id": "GjkXv-phaNzi",
        "outputId": "d6948e66-78eb-4bb9-eef7-18fc91f4a8a1"
      },
      "execution_count": null,
      "outputs": [
        {
          "output_type": "stream",
          "name": "stdout",
          "text": [
            "[ 0  1  2 ... 17 18 19]\n",
            "[[ 1  2  3  4  5]\n",
            " [ 6  7  8  9 10]\n",
            " [11 12 13 14 15]\n",
            " [16 17 18 19 20]]\n"
          ]
        }
      ]
    },
    {
      "cell_type": "markdown",
      "source": [
        "**QUESTION-12**  Given a 3D NumPy array of shape (2, 3, 4), find its shape, size,\n",
        "number of dimensions, and data type. Change its data type to float64 and verify\n",
        "the change."
      ],
      "metadata": {
        "id": "QDtsR72gKVnD"
      }
    },
    {
      "cell_type": "code",
      "source": [
        "arr = np.arange(24).reshape(2,3,4)\n",
        "print(arr)\n",
        "print(arr.shape)\n",
        "print(arr.size)\n",
        "print(arr.ndim)\n",
        "print(arr.dtype)\n",
        "arr1 = arr.astype(np.float64)\n",
        "arr1.dtype"
      ],
      "metadata": {
        "colab": {
          "base_uri": "https://localhost:8080/"
        },
        "id": "TQVCaRGqKg4q",
        "outputId": "c3c4d693-116a-41c4-e526-5c28d26722f8"
      },
      "execution_count": null,
      "outputs": [
        {
          "output_type": "stream",
          "name": "stdout",
          "text": [
            "[[[ 0  1  2  3]\n",
            "  [ 4  5  6  7]\n",
            "  [ 8  9 10 11]]\n",
            "\n",
            " [[12 13 14 15]\n",
            "  [16 17 18 19]\n",
            "  [20 21 22 23]]]\n",
            "(2, 3, 4)\n",
            "24\n",
            "3\n",
            "int64\n"
          ]
        },
        {
          "output_type": "execute_result",
          "data": {
            "text/plain": [
              "dtype('float64')"
            ]
          },
          "metadata": {},
          "execution_count": 15
        }
      ]
    },
    {
      "cell_type": "markdown",
      "source": [
        " **QUESTION-13** : Reshape a 1D array of 12 elements into a 3x4 2D array and then\n",
        "flatten it back into a 1D array using ravel (). Verify that the flattened array\n",
        "matches the original."
      ],
      "metadata": {
        "id": "QpbVb3bfq9Ez"
      }
    },
    {
      "cell_type": "code",
      "source": [
        "arr = np.arange(12)\n",
        "print(arr)\n",
        "arr1 = arr.reshape(3,4)\n",
        "print(arr1)"
      ],
      "metadata": {
        "colab": {
          "base_uri": "https://localhost:8080/"
        },
        "id": "HM5C4vcxrLcL",
        "outputId": "b54f1789-eb12-4076-b649-430749ac09f5"
      },
      "execution_count": null,
      "outputs": [
        {
          "output_type": "stream",
          "name": "stdout",
          "text": [
            "[ 0  1  2 ...  9 10 11]\n",
            "[[ 0  1  2  3]\n",
            " [ 4  5  6  7]\n",
            " [ 8  9 10 11]]\n"
          ]
        }
      ]
    },
    {
      "cell_type": "markdown",
      "source": [
        "**QUESTION-14**  Given two arrays, a = np. array ([1, 2, 3]) and b = np. array ([4,\n",
        "5, 6]), perform element-wise addition, subtraction, multiplication, and\n",
        "division. Explain the behavior when dividing by zero."
      ],
      "metadata": {
        "id": "1UCWt4SHrMMc"
      }
    },
    {
      "cell_type": "code",
      "source": [
        "a = np.array([1,2,3])\n",
        "b = np.array([4,5,6])\n",
        "print(a+b)\n",
        "print(a-b)\n",
        "print(a*b)\n",
        "print(a/b)\n",
        "\n",
        "c = np.array([0,0,0])\n",
        "print(a/c)"
      ],
      "metadata": {
        "colab": {
          "base_uri": "https://localhost:8080/"
        },
        "id": "QVWZuUxXapn6",
        "outputId": "bba8b822-ff47-4781-c535-ca4348f33a18"
      },
      "execution_count": null,
      "outputs": [
        {
          "output_type": "stream",
          "name": "stdout",
          "text": [
            "[5 7 9]\n",
            "[-3 -3 -3]\n",
            "[ 4 10 18]\n",
            "[0.25 0.4  0.5 ]\n",
            "[inf inf inf]\n"
          ]
        },
        {
          "output_type": "stream",
          "name": "stderr",
          "text": [
            "/tmp/ipython-input-2331356418.py:9: RuntimeWarning: divide by zero encountered in divide\n",
            "  print(a/c)\n"
          ]
        }
      ]
    },
    {
      "cell_type": "markdown",
      "source": [
        "**QUESTION-15**  Create a 2D array of shape (3, 1) and a 1D array of length 3. Perform\n",
        "element-wise addition using broadcasting. Explain how broadcasting rules apply\n",
        "in this scenario."
      ],
      "metadata": {
        "id": "RVTQ1zYArQy3"
      }
    },
    {
      "cell_type": "code",
      "source": [
        "a = np.arange(3).reshape(3,1)\n",
        "print(\"array a : \")\n",
        "print(a)\n",
        "print()\n",
        "\n",
        "b = np.arange(3)\n",
        "print(\"array b :\")\n",
        "print(b)\n",
        "print()\n",
        "\n",
        "print(\"Addition of a and b :\")\n",
        "print(a+b)\n",
        "print()\n",
        "\n",
        "print(\" a has shape (3, 1) → a column vector\\n b has shape (1,3) → a row vector\\n a is broadcast across columns\\n b is broadcast across rows\\n So, the result shape becomes (3, 3) and the operation happens element-wise \")"
      ],
      "metadata": {
        "colab": {
          "base_uri": "https://localhost:8080/"
        },
        "id": "miqgiw38ceyK",
        "outputId": "b3e94adf-c663-47bb-bf96-2fae527b3b42"
      },
      "execution_count": null,
      "outputs": [
        {
          "output_type": "stream",
          "name": "stdout",
          "text": [
            "array a : \n",
            "[[0]\n",
            " [1]\n",
            " [2]]\n",
            "\n",
            "array b :\n",
            "[0 1 2]\n",
            "\n",
            "Addition of a and b :\n",
            "[[0 1 2]\n",
            " [1 2 3]\n",
            " [2 3 4]]\n",
            "\n",
            " a has shape (3, 1) → a column vector\n",
            " b has shape (1,3) → a row vector\n",
            " a is broadcast across columns\n",
            " b is broadcast across rows\n",
            " So, the result shape becomes (3, 3) and the operation happens element-wise \n"
          ]
        }
      ]
    },
    {
      "cell_type": "markdown",
      "source": [
        "**QUESTION-16**  Generate a random 2D array of integers between 0 and 10. Use conditional operators to create a Boolean mask identifying elements greater than 5. Replace all elements greater than 5 with the value 5."
      ],
      "metadata": {
        "id": "Kjz-RaQerUBC"
      }
    },
    {
      "cell_type": "code",
      "source": [
        "arr = np.random.randint(0,10, size=(4,5))\n",
        "print(arr)\n",
        "print()\n",
        "\n",
        "mask = arr > 5\n",
        "print(mask)\n",
        "print()\n",
        "\n",
        "arr[mask] = 5\n",
        "print(arr)"
      ],
      "metadata": {
        "colab": {
          "base_uri": "https://localhost:8080/"
        },
        "id": "mXRIR40xcfvz",
        "outputId": "e61b6507-2dcb-4b0d-c309-738b41119e5c"
      },
      "execution_count": null,
      "outputs": [
        {
          "output_type": "stream",
          "name": "stdout",
          "text": [
            "[[6 8 4 2 9]\n",
            " [6 6 3 6 1]\n",
            " [6 0 5 7 6]\n",
            " [9 9 6 8 8]]\n",
            "\n",
            "[[ True  True False False  True]\n",
            " [ True  True False  True False]\n",
            " [ True False False  True  True]\n",
            " [ True  True  True  True  True]]\n",
            "\n",
            "[[5 5 4 2 5]\n",
            " [5 5 3 5 1]\n",
            " [5 0 5 5 5]\n",
            " [5 5 5 5 5]]\n"
          ]
        }
      ]
    },
    {
      "cell_type": "markdown",
      "source": [
        "**QUESTION-17**  Given a 4x4 array of random integers, use indexing and slicing\n",
        "to extract:\n",
        "\n",
        "o The entire second row\n",
        "\n",
        "o The last column\n",
        "\n",
        "o The subarray consisting of the first two rows and first two columns"
      ],
      "metadata": {
        "id": "8AwvXVNxrXAJ"
      }
    },
    {
      "cell_type": "code",
      "source": [
        "arr = np.random.randint(16, size=(4,4))\n",
        "print(arr)\n",
        "print()\n",
        "\n",
        "print(arr[1])\n",
        "print()\n",
        "\n",
        "\n",
        "print(arr[:,-1])\n",
        "print()\n",
        "\n",
        "print(arr[0:2,0:2])\n"
      ],
      "metadata": {
        "colab": {
          "base_uri": "https://localhost:8080/"
        },
        "id": "QGNgUQV7cgrq",
        "outputId": "c8426e16-97cc-4331-a66a-430bb833f76d"
      },
      "execution_count": null,
      "outputs": [
        {
          "output_type": "stream",
          "name": "stdout",
          "text": [
            "[[10 14  5  6]\n",
            " [ 0 11 10 10]\n",
            " [15 12 10  0]\n",
            " [10  4 12 11]]\n",
            "\n",
            "[ 0 11 10 10]\n",
            "\n",
            "[ 6 10  0 11]\n",
            "\n",
            "[[10 14]\n",
            " [ 0 11]]\n"
          ]
        }
      ]
    },
    {
      "cell_type": "markdown",
      "source": [
        "**QUESTION-18**  Describe a practical example where NumPy can be used in EDA,\n",
        "AI, ML, and DL, and implement a NumPy solution for a simple task in each\n",
        "area."
      ],
      "metadata": {
        "id": "yZuTDC_KrZe8"
      }
    },
    {
      "cell_type": "code",
      "source": [
        "print(\"EDA practical use is Data cleaning, statistical summaries, outlier detection\\nand role of NumPy is Fast array manipulation and statistics\")\n",
        "print()\n",
        "import numpy as np\n",
        "\n",
        "# Students ke marks (out of 100)\n",
        "marks = np.array([45, 50, 55, 60, 65, 70, 95])  # 95 thoda high lag raha hai\n",
        "\n",
        "# Mean (average)\n",
        "mean = np.mean(marks)\n",
        "\n",
        "# Median (middle value)\n",
        "median = np.median(marks)\n",
        "\n",
        "# Outliers: agar marks mean se 20 se zyada door ho, to outlier\n",
        "outliers = marks[np.abs(marks - mean) > 20]\n",
        "\n",
        "print(\"Marks:\", marks)\n",
        "print(\"Mean:\", mean)\n",
        "print(\"Median:\", median)\n",
        "print(\"Outliers:\", outliers)\n"
      ],
      "metadata": {
        "colab": {
          "base_uri": "https://localhost:8080/"
        },
        "id": "rPE5zDTx0S7E",
        "outputId": "ae63262e-71b5-4479-ba44-53aa9b12678a"
      },
      "execution_count": null,
      "outputs": [
        {
          "output_type": "stream",
          "name": "stdout",
          "text": [
            "EDA practical use is Data cleaning, statistical summaries, outlier detection\n",
            "and role of NumPy is Fast array manipulation and statistics\n",
            "\n",
            "Marks: [45 50 55 ... 65 70 95]\n",
            "Mean: 62.857142857142854\n",
            "Median: 60.0\n",
            "Outliers: [95]\n"
          ]
        }
      ]
    },
    {
      "cell_type": "code",
      "source": [
        "print(\"AI practical use in Rule-based systems or logic programming\\nand role of NumPy is Efficient condition checking and scoring \")\n",
        "print()\n",
        "\n",
        "temps = np.array([30, 45, 60, 80, 100])\n",
        "\n",
        "# Rule: if temp > 75 → \"High\", else \"Normal\"\n",
        "status = np.where(temps > 75, \"High\", \"Normal\")\n",
        "\n",
        "print(\"Temperature status:\", status)"
      ],
      "metadata": {
        "colab": {
          "base_uri": "https://localhost:8080/"
        },
        "id": "5Nxc0F7E2mkU",
        "outputId": "eadd34aa-2139-4711-e0e6-7a13c6d33cc6"
      },
      "execution_count": null,
      "outputs": [
        {
          "output_type": "stream",
          "name": "stdout",
          "text": [
            "AI practical use in Rule-based systems or logic programming\n",
            "and role of NumPy is Efficient condition checking and scoring \n",
            "\n",
            "Temperature status: ['Normal' 'Normal' 'Normal' 'High' 'High']\n"
          ]
        }
      ]
    },
    {
      "cell_type": "code",
      "source": [
        "print(\"ML practical use is Data preprocessing, feature scaling, gradient computation\\nand role of NumPy is Vectorized operations for speed\")\n",
        "print()\n",
        "data = np.array([[50, 200], [30, 100], [20, 80], [70, 300]])\n",
        "min_vals = data.min(axis=0)\n",
        "max_vals = data.max(axis=0)\n",
        "\n",
        "normalized = (data - min_vals) / (max_vals - min_vals)\n",
        "print(\"Normalized data:\\n\", normalized)"
      ],
      "metadata": {
        "colab": {
          "base_uri": "https://localhost:8080/"
        },
        "id": "OlMhKkG12mXi",
        "outputId": "815e07ea-220d-4843-8d86-51d30ce995b5"
      },
      "execution_count": null,
      "outputs": [
        {
          "output_type": "stream",
          "name": "stdout",
          "text": [
            "ML practical use is Data preprocessing, feature scaling, gradient computation\n",
            "and role of NumPy is Vectorized operations for speed\n",
            "\n",
            "Normalized data:\n",
            " [[0.6        0.54545455]\n",
            " [0.2        0.09090909]\n",
            " [0.         0.        ]\n",
            " [1.         1.        ]]\n"
          ]
        }
      ]
    },
    {
      "cell_type": "code",
      "source": [
        "print(\"DL practical use is Tensor operations, forward propagation\\nand NumPy underpins many frameworks (e.g., TensorFlow, PyTorch)\")\n",
        "print()\n",
        "# Inputs (4 features), weights (4x3 for 3 neurons), biases\n",
        "inputs = np.array([1.0, 2.0, 3.0, 2.5])\n",
        "weights = np.array([[0.2, 0.8, -0.5],\n",
        "                    [0.5, -0.91, 0.26],\n",
        "                    [-0.26, -0.27, 0.17],\n",
        "                    [0.1, 0.14, 0.5]])\n",
        "biases = np.array([2, 3, 0.5])\n",
        "\n",
        "# Forward pass\n",
        "output = np.dot(inputs, weights) + biases\n",
        "\n",
        "# ReLU activation\n",
        "relu_output = np.maximum(0, output)\n",
        "\n",
        "print(\"Output after ReLU:\", relu_output)\n",
        "\n"
      ],
      "metadata": {
        "colab": {
          "base_uri": "https://localhost:8080/"
        },
        "id": "n6Xi5e352mK5",
        "outputId": "32f47cba-39a7-4e9a-901a-c1f7f7261520"
      },
      "execution_count": null,
      "outputs": [
        {
          "output_type": "stream",
          "name": "stdout",
          "text": [
            "DL practical use is Tensor operations, forward propagation\n",
            "and NumPy underpins many frameworks (e.g., TensorFlow, PyTorch)\n",
            "\n",
            "Output after ReLU: [2.67 1.52 2.28]\n"
          ]
        }
      ]
    },
    {
      "cell_type": "markdown",
      "source": [
        "**QUESTION-19**  Create a random 4x4 matrix and use NumPy to compute its\n",
        "eigenvalues and eigenvectors. Verify the eigenvalues by reconstructing the\n",
        "matrix."
      ],
      "metadata": {
        "id": "zKcV8EimrcDn"
      }
    },
    {
      "cell_type": "code",
      "source": [
        "import numpy as np\n",
        "\n",
        "# Step 1: Create a random 4x4 matrix\n",
        "np.random.seed(0)  # for reproducibility\n",
        "A = np.random.rand(4, 4)\n",
        "print(\"Original matrix A:\\n\", A)\n",
        "\n",
        "# Step 2: Compute eigenvalues and eigenvectors\n",
        "eigenvalues, eigenvectors = np.linalg.eig(A)\n",
        "print(\"\\nEigenvalues:\\n\", eigenvalues)\n",
        "print(\"\\nEigenvectors (columns):\\n\", eigenvectors)\n",
        "\n",
        "# Step 3: Reconstruct the matrix A using eigen decomposition\n",
        "# A ≈ V @ D @ V_inv\n",
        "V = eigenvectors\n",
        "D = np.diag(eigenvalues)\n",
        "V_inv = np.linalg.inv(V)\n",
        "\n",
        "A_reconstructed = V @ D @ V_inv\n",
        "print(\"\\nReconstructed A (from eigen decomposition):\\n\", A_reconstructed)\n",
        "\n",
        "# Step 4: Verify reconstruction\n",
        "is_close = np.allclose(A, A_reconstructed)\n",
        "print(\"\\nDo the original and reconstructed matrices match (within tolerance)?\", is_close)\n"
      ],
      "metadata": {
        "colab": {
          "base_uri": "https://localhost:8080/"
        },
        "id": "t1NPUeuO4rSc",
        "outputId": "60c4e7b1-fc65-4a08-bc41-f4116747b982"
      },
      "execution_count": null,
      "outputs": [
        {
          "output_type": "stream",
          "name": "stdout",
          "text": [
            "Original matrix A:\n",
            " [[0.5488135  0.71518937 0.60276338 0.54488318]\n",
            " [0.4236548  0.64589411 0.43758721 0.891773  ]\n",
            " [0.96366276 0.38344152 0.79172504 0.52889492]\n",
            " [0.56804456 0.92559664 0.07103606 0.0871293 ]]\n",
            "\n",
            "Eigenvalues:\n",
            " [ 2.28158836 -0.5139378  -0.22422772  0.53013911]\n",
            "\n",
            "Eigenvectors (columns):\n",
            " [[ 0.52354106 -0.10090767  0.5285094  -0.1584302 ]\n",
            " [ 0.49196427  0.55773542 -0.43250014  0.36386336]\n",
            " [ 0.59384504  0.23102177 -0.57357157 -0.81262442]\n",
            " [ 0.36224851 -0.79080831  0.45236832  0.42678435]]\n",
            "\n",
            "Reconstructed A (from eigen decomposition):\n",
            " [[0.5488135  0.71518937 0.60276338 0.54488318]\n",
            " [0.4236548  0.64589411 0.43758721 0.891773  ]\n",
            " [0.96366276 0.38344152 0.79172504 0.52889492]\n",
            " [0.56804456 0.92559664 0.07103606 0.0871293 ]]\n",
            "\n",
            "Do the original and reconstructed matrices match (within tolerance)? True\n"
          ]
        }
      ]
    },
    {
      "cell_type": "markdown",
      "source": [
        "**QUESTION-20** Create a 1D array of 27 elements and reshape it into a 3x3x3\n",
        "3D array. Flatten it back into a 1D array and compare the flattened array\n",
        "with the original."
      ],
      "metadata": {
        "id": "7EjCaAwtregy"
      }
    },
    {
      "cell_type": "code",
      "source": [
        "arr = np.arange(27)\n",
        "print(arr)\n",
        "print()\n",
        "\n",
        "arr = np.arange(27).reshape(3,3,3)\n",
        "print(arr)\n",
        "print()\n",
        "\n",
        "arr1 = arr.flatten()\n",
        "print(arr1)"
      ],
      "metadata": {
        "colab": {
          "base_uri": "https://localhost:8080/"
        },
        "id": "xLL7DCdT4zsb",
        "outputId": "00605d29-715b-41d5-fed2-5eef98ab019c"
      },
      "execution_count": null,
      "outputs": [
        {
          "output_type": "stream",
          "name": "stdout",
          "text": [
            "[ 0  1  2 ... 24 25 26]\n",
            "\n",
            "[[[ 0  1  2]\n",
            "  [ 3  4  5]\n",
            "  [ 6  7  8]]\n",
            "\n",
            " [[ 9 10 11]\n",
            "  [12 13 14]\n",
            "  [15 16 17]]\n",
            "\n",
            " [[18 19 20]\n",
            "  [21 22 23]\n",
            "  [24 25 26]]]\n",
            "\n",
            "[ 0  1  2 ... 24 25 26]\n"
          ]
        }
      ]
    },
    {
      "cell_type": "markdown",
      "source": [
        "**QUESTION-21**  Perform matrix multiplication of two 2D arrays using np.dot ()\n",
        "and @. Compare the results and performance of both methods using a large\n",
        "dataset."
      ],
      "metadata": {
        "id": "dKAIo2drrhUn"
      }
    },
    {
      "cell_type": "code",
      "source": [
        "arr1 = np.random.randint(1000, size=(100,100))\n",
        "arr2 = np.random.randint(1000, size=(100,100))\n",
        "\n",
        "arr3 = np.dot(arr1,arr2)\n",
        "print(arr3)\n",
        "print()\n",
        "\n",
        "arr4 = arr1 @ arr2\n",
        "print(arr4)\n",
        "\n",
        "result = np.allclose(arr3, arr4)\n",
        "print(\"Both are same\",result)\n"
      ],
      "metadata": {
        "colab": {
          "base_uri": "https://localhost:8080/"
        },
        "id": "WDIOJ7in5Xyl",
        "outputId": "818862bc-52c1-42a3-85ad-da1246bcf1f7"
      },
      "execution_count": null,
      "outputs": [
        {
          "output_type": "stream",
          "name": "stdout",
          "text": [
            "[[27233270 25494729 24632980 ... 23737446 23606527 24391439]\n",
            " [29920760 27324942 27389970 ... 27551714 26814102 27467875]\n",
            " [24119518 23243486 23353880 ... 25707838 23063734 23800336]\n",
            " ...\n",
            " [25450667 25358828 26986815 ... 24822578 24363106 23973144]\n",
            " [23768948 24261376 23430155 ... 25324127 22283330 23179952]\n",
            " [24334999 22375702 23862427 ... 23885220 22069290 22260708]]\n",
            "\n",
            "[[27233270 25494729 24632980 ... 23737446 23606527 24391439]\n",
            " [29920760 27324942 27389970 ... 27551714 26814102 27467875]\n",
            " [24119518 23243486 23353880 ... 25707838 23063734 23800336]\n",
            " ...\n",
            " [25450667 25358828 26986815 ... 24822578 24363106 23973144]\n",
            " [23768948 24261376 23430155 ... 25324127 22283330 23179952]\n",
            " [24334999 22375702 23862427 ... 23885220 22069290 22260708]]\n",
            "Both are same True\n"
          ]
        }
      ]
    },
    {
      "cell_type": "markdown",
      "source": [
        "**QUESTION-22**  Create a 3D array of shape (2, 1, 4) and a 2D array of shape (4,\n",
        "1). Perform an element-wise operation using broadcasting and explain the\n",
        "result. Use np. new axis to achieve the same result without broadcasting."
      ],
      "metadata": {
        "id": "eS_IBL6Wrj0D"
      }
    },
    {
      "cell_type": "code",
      "source": [
        "a = np.array([[[1, 2, 3, 4]], [[5, 6, 7, 8]]])\n",
        "b = np.array([[3],[4],[6],[7]])\n",
        "result = a + b\n",
        "print(result)\n",
        "print()\n",
        "\n",
        "print(\"a ->(2,1,4)\\nb->(4,1)\\nNumPy adds 1s in missing dimensions to the left of b\\nso b->(1,4,1\\nresult is (2,4,4))\")"
      ],
      "metadata": {
        "colab": {
          "base_uri": "https://localhost:8080/"
        },
        "id": "a9-yZWM49_Rt",
        "outputId": "e2cceba3-c385-4e39-8a54-863ebd8a957a"
      },
      "execution_count": null,
      "outputs": [
        {
          "output_type": "stream",
          "name": "stdout",
          "text": [
            "[[[ 4  5  6  7]\n",
            "  [ 5  6  7  8]\n",
            "  [ 7  8  9 10]\n",
            "  [ 8  9 10 11]]\n",
            "\n",
            " [[ 8  9 10 11]\n",
            "  [ 9 10 11 12]\n",
            "  [11 12 13 14]\n",
            "  [12 13 14 15]]]\n",
            "\n",
            "a ->(2,1,4)\n",
            "b->(4,1)\n",
            "NumPy adds 1s in missing dimensions to the left of b\n",
            "so b->(1,4,1\n",
            "result is (2,4,4))\n"
          ]
        }
      ]
    },
    {
      "cell_type": "markdown",
      "source": [
        "**QUESTION-23** Generate a 2D array of random floats between 0 and 1. Use\n",
        "conditional operators to create a Boolean mask for values less than 0.5.\n",
        "Replace these values with their squares and leave the rest unchanged"
      ],
      "metadata": {
        "id": "UgZ4T5y3roKt"
      }
    },
    {
      "cell_type": "code",
      "source": [
        "arr = np.random.rand(3,4)\n",
        "print(arr)\n",
        "print()\n",
        "mask = arr < 0.5\n",
        "arr[mask] = arr[mask]**2\n",
        "print(arr)"
      ],
      "metadata": {
        "colab": {
          "base_uri": "https://localhost:8080/"
        },
        "id": "2U9cm0SFFHlG",
        "outputId": "54e78c82-12c4-4a8d-dc91-7ca149f8bff9"
      },
      "execution_count": null,
      "outputs": [
        {
          "output_type": "stream",
          "name": "stdout",
          "text": [
            "[[0.05358289 0.44921315 0.85424264 0.89076144]\n",
            " [0.14802146 0.93280417 0.16500071 0.59241163]\n",
            " [0.86257845 0.70482209 0.27492754 0.11386076]]\n",
            "\n",
            "[[0.00287113 0.20179246 0.85424264 0.89076144]\n",
            " [0.02191035 0.93280417 0.02722523 0.59241163]\n",
            " [0.86257845 0.70482209 0.07558515 0.01296427]]\n"
          ]
        }
      ]
    },
    {
      "cell_type": "markdown",
      "source": [
        "**QUESTION-24**  Given a 5x5 array of sequential integers, use slicing to:\n",
        "\n",
        "o Extract the diagonal elements\n",
        "\n",
        "o Replace the elements of the middle row with zeros\n",
        "\n",
        "o Flip the array vertically and horizontally"
      ],
      "metadata": {
        "id": "I-6IpcbErq-i"
      }
    },
    {
      "cell_type": "code",
      "source": [
        "arr = np.arange(25).reshape(5,5)\n",
        "print(arr)\n",
        "print()\n",
        "\n",
        "d = arr.diagonal()\n",
        "print(d)\n",
        "print()\n",
        "\n",
        "arr[2, :]=0\n",
        "print(arr)\n",
        "print()\n",
        "\n",
        "vertical_flip = np.fliplr(arr)\n",
        "print(vertical_flip)\n",
        "print()\n",
        "\n",
        "horizontal_flip = np.flipud(arr)\n",
        "print(horizontal_flip)"
      ],
      "metadata": {
        "colab": {
          "base_uri": "https://localhost:8080/"
        },
        "id": "XoSi8XJcFzbc",
        "outputId": "2eb3e244-138b-42de-952c-f9a1cd84a84f"
      },
      "execution_count": null,
      "outputs": [
        {
          "output_type": "stream",
          "name": "stdout",
          "text": [
            "[[ 0  1  2  3  4]\n",
            " [ 5  6  7  8  9]\n",
            " [10 11 12 13 14]\n",
            " [15 16 17 18 19]\n",
            " [20 21 22 23 24]]\n",
            "\n",
            "[ 0  6 12 18 24]\n",
            "\n",
            "[[ 0  1  2  3  4]\n",
            " [ 5  6  7  8  9]\n",
            " [ 0  0  0  0  0]\n",
            " [15 16 17 18 19]\n",
            " [20 21 22 23 24]]\n",
            "\n",
            "[[ 4  3  2  1  0]\n",
            " [ 9  8  7  6  5]\n",
            " [ 0  0  0  0  0]\n",
            " [19 18 17 16 15]\n",
            " [24 23 22 21 20]]\n",
            "\n",
            "[[20 21 22 23 24]\n",
            " [15 16 17 18 19]\n",
            " [ 0  0  0  0  0]\n",
            " [ 5  6  7  8  9]\n",
            " [ 0  1  2  3  4]]\n"
          ]
        }
      ]
    },
    {
      "cell_type": "markdown",
      "source": [
        "**QUESTION-25**  Create a 4D array of shape (2, 3, 4, 5) with random integers.\n",
        "Use advanced slicing to extract a subarray and compute the mean along a\n",
        "specified axis."
      ],
      "metadata": {
        "id": "aHfGdTV9rtsu"
      }
    },
    {
      "cell_type": "code",
      "source": [
        "arr = np.random.randint(0,100, size=(2,3,4,5))\n",
        "print(arr)\n",
        "print()\n",
        "\n",
        "subarray = arr[0, 1:, :2, :]\n",
        "print(subarray.shape)\n",
        "print()\n",
        "\n",
        "mean_result = np.mean(subarray, axis=2)\n",
        "print(mean_result)\n",
        "print(mean_result.shape)"
      ],
      "metadata": {
        "colab": {
          "base_uri": "https://localhost:8080/"
        },
        "id": "XhXf3t0PHSYJ",
        "outputId": "7bd2af20-c987-4072-ad34-3ae44a3e83f5"
      },
      "execution_count": null,
      "outputs": [
        {
          "output_type": "stream",
          "name": "stdout",
          "text": [
            "[[[[27 72 59  2 77]\n",
            "   [34 73 42 21 86]\n",
            "   [59 93 75 25 68]\n",
            "   [73 66 40 16  8]]\n",
            "\n",
            "  [[29 83 51 93  6]\n",
            "   [57 38 12 45  7]\n",
            "   [71 19  8  0 10]\n",
            "   [88 82 38 49 49]]\n",
            "\n",
            "  [[71 31 94  8 74]\n",
            "   [81 83 27 25 84]\n",
            "   [47 54 75 27  5]\n",
            "   [38 73 39 94 34]]]\n",
            "\n",
            "\n",
            " [[[81 54 11  2 32]\n",
            "   [39 51 73 98 10]\n",
            "   [25 87 54 95 51]\n",
            "   [77 71 41 37 69]]\n",
            "\n",
            "  [[76 92  3 70 43]\n",
            "   [46 62 70  4 28]\n",
            "   [36 23 31 91 91]\n",
            "   [ 4 50 17 17 62]]\n",
            "\n",
            "  [[51 58 21 94 77]\n",
            "   [21 62 70 75  9]\n",
            "   [76  0 32 36 53]\n",
            "   [23 48 51 24 94]]]]\n",
            "\n",
            "(2, 2, 5)\n",
            "\n",
            "[[52.4 31.8]\n",
            " [55.6 60. ]]\n",
            "(2, 2)\n"
          ]
        }
      ]
    },
    {
      "cell_type": "markdown",
      "source": [
        "**QUESTION-26**  Given an array of shape (10, 20), reshape it to (20, 10) and (5,\n",
        "40). Discuss the impact on the array's shape, size, and dimensionality."
      ],
      "metadata": {
        "id": "9CCH5duFryZD"
      }
    },
    {
      "cell_type": "code",
      "source": [
        "arr1 = np.arange(200).reshape(10,20)\n",
        "print(arr1.shape)\n",
        "print(arr1.size)\n",
        "print(arr1.ndim)\n",
        "print()\n",
        "\n",
        "arr2 = np.arange(200).reshape(20,10)\n",
        "print(arr2.shape)\n",
        "print(arr2.size)\n",
        "print(arr2.ndim)\n",
        "print()\n",
        "\n",
        "arr3 = np.arange(200).reshape(5,40)\n",
        "print(arr3.shape)\n",
        "print(arr3.size)\n",
        "print(arr3.ndim)\n",
        "print()\n"
      ],
      "metadata": {
        "colab": {
          "base_uri": "https://localhost:8080/"
        },
        "id": "ThvSayMdIild",
        "outputId": "8f3d4f8f-3d13-423b-e0cf-fcde4cb59f5e"
      },
      "execution_count": null,
      "outputs": [
        {
          "output_type": "stream",
          "name": "stdout",
          "text": [
            "(10, 20)\n",
            "200\n",
            "2\n",
            "\n",
            "(20, 10)\n",
            "200\n",
            "2\n",
            "\n",
            "(5, 40)\n",
            "200\n",
            "2\n",
            "\n"
          ]
        }
      ]
    },
    {
      "cell_type": "markdown",
      "source": [
        "**QUESTION-27**  Generate a large 2D array and demonstrate the use of np. reshape\n",
        "() and unravel () to manipulate its shape for various linear algebra operations."
      ],
      "metadata": {
        "id": "Kg2bmBk1r1Or"
      }
    },
    {
      "cell_type": "code",
      "source": [
        "arr = np.arange(1000)\n",
        "print(arr)\n",
        "print()\n",
        "\n",
        "arr1 = arr.reshape(10,100)\n",
        "print(arr1)\n",
        "print()\n",
        "\n",
        "arr2 = arr.ravel()\n",
        "print(arr2)\n",
        "print()"
      ],
      "metadata": {
        "colab": {
          "base_uri": "https://localhost:8080/"
        },
        "id": "20ls6tUjJPx0",
        "outputId": "6e9f9b92-e76e-446a-94c0-7c676aedce50"
      },
      "execution_count": null,
      "outputs": [
        {
          "output_type": "stream",
          "name": "stdout",
          "text": [
            "[  0   1   2 ... 997 998 999]\n",
            "\n",
            "[[  0   1   2 ...  97  98  99]\n",
            " [100 101 102 ... 197 198 199]\n",
            " [200 201 202 ... 297 298 299]\n",
            " ...\n",
            " [700 701 702 ... 797 798 799]\n",
            " [800 801 802 ... 897 898 899]\n",
            " [900 901 902 ... 997 998 999]]\n",
            "\n",
            "[  0   1   2 ... 997 998 999]\n",
            "\n"
          ]
        }
      ]
    },
    {
      "cell_type": "markdown",
      "source": [
        "**QUESTION-28**  Given a 6x6 matrix, use advanced indexing and slicing to extract\n",
        "the upper triangular part of the matrix and set the lower triangular part to zero.\n",
        "Verify the result."
      ],
      "metadata": {
        "id": "JmrTaOhyr-6G"
      }
    },
    {
      "cell_type": "code",
      "source": [
        "matrix = np.random.randint(1, 100, size=(6, 6))\n",
        "print(matrix)\n",
        "print()\n",
        "\n",
        "upper_tri = np.triu(matrix)\n",
        "print(upper_tri)\n",
        "print()\n",
        "\n",
        "is_lower_zero = np.allclose(np.tril(matrix, -1), 0)\n",
        "print(is_lower_zero)"
      ],
      "metadata": {
        "colab": {
          "base_uri": "https://localhost:8080/"
        },
        "id": "bKpfdznsJwkW",
        "outputId": "edbc0d8e-2e56-40de-dba0-13250d2983d1"
      },
      "execution_count": null,
      "outputs": [
        {
          "output_type": "stream",
          "name": "stdout",
          "text": [
            "[[35 93 98 14  5 54]\n",
            " [27 55 77 63 46 10]\n",
            " [56 70 45 54 10 74]\n",
            " [26  3 46  5 46 98]\n",
            " [70 68  6  4 12 75]\n",
            " [16 50 64 77 50 22]]\n",
            "\n",
            "[[35 93 98 14  5 54]\n",
            " [ 0 55 77 63 46 10]\n",
            " [ 0  0 45 54 10 74]\n",
            " [ 0  0  0  5 46 98]\n",
            " [ 0  0  0  0 12 75]\n",
            " [ 0  0  0  0  0 22]]\n",
            "\n",
            "False\n"
          ]
        }
      ]
    }
  ]
}